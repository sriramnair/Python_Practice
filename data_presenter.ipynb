{
 "cells": [
  {
   "cell_type": "code",
   "execution_count": 1,
   "id": "d789fe43",
   "metadata": {},
   "outputs": [],
   "source": [
    "data = open('CupcakeInvoices.csv')"
   ]
  },
  {
   "cell_type": "code",
   "execution_count": 2,
   "id": "d46ea25b",
   "metadata": {},
   "outputs": [
    {
     "name": "stdout",
     "output_type": "stream",
     "text": [
      "Joe,Smith,Chocolate,4,3.99\n",
      "\n",
      "Eric,Williams,Vanilla,12,2.99\n",
      "\n",
      "Tyler,Purchase,Chocolate,6,3.99\n",
      "\n",
      "Riley,Weatherly,Vanilla,2,2.99\n",
      "\n",
      "Brittany,Morgan,Chocolate,50,1.99\n",
      "\n",
      "Jimmy,Wade,Strawberry,8,4.99\n",
      "\n",
      "Jeff,Garcia,Strawberry,12,4.99\n",
      "\n",
      "Amy,Stark,Chocolate,12,3.99\n",
      "\n",
      "Karl,Jenson,Strawberry,1,4.99\n",
      "\n",
      "Sally,Gains,Vanilla,100,2.99\n",
      "\n",
      "Ron,Blake,Chocolate,10,3.99\n",
      "\n",
      "Daniel,Montenegro,Strawberry,5,3.99\n",
      "\n",
      "Catherine,Alexander,Vanilla,20,1.49\n",
      "\n",
      "Sharleen,Reed,Strawberry,4,4.99\n",
      "\n",
      "Richard,Prentis,Chocolate,2,3.99\n",
      "\n",
      "Jenny,Anderson,Strawberry,1,4.99\n",
      "\n",
      "Kevin,Salvatore,Chocolate,5,3.99\n",
      "\n",
      "Barry,Brown,Chocolate,8,1.00\n",
      "\n",
      "Jayna,Gilbert,Vanilla,6,2.99\n",
      "\n",
      "Laura,Cooper,Chocolate,1,3.99\n",
      "\n",
      "Lynn,Scott,Strawberry,4,2.50\n"
     ]
    }
   ],
   "source": [
    "for i in data:\n",
    "    print(i)"
   ]
  },
  {
   "cell_type": "code",
   "execution_count": 3,
   "id": "4e6ee7da",
   "metadata": {},
   "outputs": [
    {
     "data": {
      "text/plain": [
       "0"
      ]
     },
     "execution_count": 3,
     "metadata": {},
     "output_type": "execute_result"
    }
   ],
   "source": [
    "data.seek(0,0)"
   ]
  },
  {
   "cell_type": "code",
   "execution_count": 4,
   "id": "5226229b",
   "metadata": {},
   "outputs": [
    {
     "name": "stdout",
     "output_type": "stream",
     "text": [
      "Chocolate\n",
      "Vanilla\n",
      "Chocolate\n",
      "Vanilla\n",
      "Chocolate\n",
      "Strawberry\n",
      "Strawberry\n",
      "Chocolate\n",
      "Strawberry\n",
      "Vanilla\n",
      "Chocolate\n",
      "Strawberry\n",
      "Vanilla\n",
      "Strawberry\n",
      "Chocolate\n",
      "Strawberry\n",
      "Chocolate\n",
      "Chocolate\n",
      "Vanilla\n",
      "Chocolate\n",
      "Strawberry\n"
     ]
    }
   ],
   "source": [
    "for i in data:\n",
    "    n = i.split(',')\n",
    "    print(n[2])"
   ]
  },
  {
   "cell_type": "code",
   "execution_count": 5,
   "id": "21a52b55",
   "metadata": {},
   "outputs": [
    {
     "data": {
      "text/plain": [
       "0"
      ]
     },
     "execution_count": 5,
     "metadata": {},
     "output_type": "execute_result"
    }
   ],
   "source": [
    "data.seek(0,0)"
   ]
  },
  {
   "cell_type": "code",
   "execution_count": 6,
   "id": "651bf68a",
   "metadata": {},
   "outputs": [
    {
     "name": "stdout",
     "output_type": "stream",
     "text": [
      "15.96\n",
      "35.88\n",
      "23.94\n",
      "5.98\n",
      "99.5\n",
      "39.92\n",
      "59.88\n",
      "47.88\n",
      "4.99\n",
      "299.0\n",
      "39.900000000000006\n",
      "19.950000000000003\n",
      "29.8\n",
      "19.96\n",
      "7.98\n",
      "4.99\n",
      "19.950000000000003\n",
      "8.0\n",
      "17.94\n",
      "3.99\n",
      "10.0\n"
     ]
    }
   ],
   "source": [
    "for n in data:\n",
    "    t = n.split(',')\n",
    "    print(float(t[3]) * float(t[4]))"
   ]
  },
  {
   "cell_type": "code",
   "execution_count": 7,
   "id": "aff070ca",
   "metadata": {},
   "outputs": [
    {
     "data": {
      "text/plain": [
       "0"
      ]
     },
     "execution_count": 7,
     "metadata": {},
     "output_type": "execute_result"
    }
   ],
   "source": [
    "data.seek(0,0)"
   ]
  },
  {
   "cell_type": "code",
   "execution_count": 8,
   "id": "23ded691",
   "metadata": {},
   "outputs": [
    {
     "name": "stdout",
     "output_type": "stream",
     "text": [
      "15.96\n",
      "51.84\n",
      "75.78\n",
      "81.76\n",
      "181.26\n",
      "221.18\n",
      "281.06\n",
      "328.94\n",
      "333.93\n",
      "632.9300000000001\n",
      "672.83\n",
      "692.7800000000001\n",
      "722.58\n",
      "742.5400000000001\n",
      "750.5200000000001\n",
      "755.5100000000001\n",
      "775.4600000000002\n",
      "783.4600000000002\n",
      "801.4000000000002\n",
      "805.3900000000002\n",
      "815.3900000000002\n"
     ]
    }
   ],
   "source": [
    "total = 0\n",
    "for n in data:\n",
    "    t = n.split(',')\n",
    "    total = total + (float(t[3]) * float(t[4]))\n",
    "    print(total)"
   ]
  },
  {
   "cell_type": "code",
   "execution_count": 9,
   "id": "d42b9c4f",
   "metadata": {},
   "outputs": [],
   "source": [
    "import pandas as pd"
   ]
  },
  {
   "cell_type": "code",
   "execution_count": 13,
   "id": "172f499f",
   "metadata": {},
   "outputs": [],
   "source": [
    "dataTwo = pd.read_csv('CupcakeInvoices.csv',header=None)"
   ]
  },
  {
   "cell_type": "code",
   "execution_count": 15,
   "id": "062788a1",
   "metadata": {},
   "outputs": [],
   "source": [
    "import seaborn as sns"
   ]
  },
  {
   "cell_type": "code",
   "execution_count": 16,
   "id": "5b5142c4",
   "metadata": {},
   "outputs": [
    {
     "data": {
      "text/html": [
       "<div>\n",
       "<style scoped>\n",
       "    .dataframe tbody tr th:only-of-type {\n",
       "        vertical-align: middle;\n",
       "    }\n",
       "\n",
       "    .dataframe tbody tr th {\n",
       "        vertical-align: top;\n",
       "    }\n",
       "\n",
       "    .dataframe thead th {\n",
       "        text-align: right;\n",
       "    }\n",
       "</style>\n",
       "<table border=\"1\" class=\"dataframe\">\n",
       "  <thead>\n",
       "    <tr style=\"text-align: right;\">\n",
       "      <th></th>\n",
       "      <th>0</th>\n",
       "      <th>1</th>\n",
       "      <th>2</th>\n",
       "      <th>3</th>\n",
       "      <th>4</th>\n",
       "    </tr>\n",
       "  </thead>\n",
       "  <tbody>\n",
       "    <tr>\n",
       "      <th>0</th>\n",
       "      <td>Joe</td>\n",
       "      <td>Smith</td>\n",
       "      <td>Chocolate</td>\n",
       "      <td>4</td>\n",
       "      <td>3.99</td>\n",
       "    </tr>\n",
       "    <tr>\n",
       "      <th>1</th>\n",
       "      <td>Eric</td>\n",
       "      <td>Williams</td>\n",
       "      <td>Vanilla</td>\n",
       "      <td>12</td>\n",
       "      <td>2.99</td>\n",
       "    </tr>\n",
       "    <tr>\n",
       "      <th>2</th>\n",
       "      <td>Tyler</td>\n",
       "      <td>Purchase</td>\n",
       "      <td>Chocolate</td>\n",
       "      <td>6</td>\n",
       "      <td>3.99</td>\n",
       "    </tr>\n",
       "    <tr>\n",
       "      <th>3</th>\n",
       "      <td>Riley</td>\n",
       "      <td>Weatherly</td>\n",
       "      <td>Vanilla</td>\n",
       "      <td>2</td>\n",
       "      <td>2.99</td>\n",
       "    </tr>\n",
       "    <tr>\n",
       "      <th>4</th>\n",
       "      <td>Brittany</td>\n",
       "      <td>Morgan</td>\n",
       "      <td>Chocolate</td>\n",
       "      <td>50</td>\n",
       "      <td>1.99</td>\n",
       "    </tr>\n",
       "    <tr>\n",
       "      <th>5</th>\n",
       "      <td>Jimmy</td>\n",
       "      <td>Wade</td>\n",
       "      <td>Strawberry</td>\n",
       "      <td>8</td>\n",
       "      <td>4.99</td>\n",
       "    </tr>\n",
       "    <tr>\n",
       "      <th>6</th>\n",
       "      <td>Jeff</td>\n",
       "      <td>Garcia</td>\n",
       "      <td>Strawberry</td>\n",
       "      <td>12</td>\n",
       "      <td>4.99</td>\n",
       "    </tr>\n",
       "    <tr>\n",
       "      <th>7</th>\n",
       "      <td>Amy</td>\n",
       "      <td>Stark</td>\n",
       "      <td>Chocolate</td>\n",
       "      <td>12</td>\n",
       "      <td>3.99</td>\n",
       "    </tr>\n",
       "    <tr>\n",
       "      <th>8</th>\n",
       "      <td>Karl</td>\n",
       "      <td>Jenson</td>\n",
       "      <td>Strawberry</td>\n",
       "      <td>1</td>\n",
       "      <td>4.99</td>\n",
       "    </tr>\n",
       "    <tr>\n",
       "      <th>9</th>\n",
       "      <td>Sally</td>\n",
       "      <td>Gains</td>\n",
       "      <td>Vanilla</td>\n",
       "      <td>100</td>\n",
       "      <td>2.99</td>\n",
       "    </tr>\n",
       "    <tr>\n",
       "      <th>10</th>\n",
       "      <td>Ron</td>\n",
       "      <td>Blake</td>\n",
       "      <td>Chocolate</td>\n",
       "      <td>10</td>\n",
       "      <td>3.99</td>\n",
       "    </tr>\n",
       "    <tr>\n",
       "      <th>11</th>\n",
       "      <td>Daniel</td>\n",
       "      <td>Montenegro</td>\n",
       "      <td>Strawberry</td>\n",
       "      <td>5</td>\n",
       "      <td>3.99</td>\n",
       "    </tr>\n",
       "    <tr>\n",
       "      <th>12</th>\n",
       "      <td>Catherine</td>\n",
       "      <td>Alexander</td>\n",
       "      <td>Vanilla</td>\n",
       "      <td>20</td>\n",
       "      <td>1.49</td>\n",
       "    </tr>\n",
       "    <tr>\n",
       "      <th>13</th>\n",
       "      <td>Sharleen</td>\n",
       "      <td>Reed</td>\n",
       "      <td>Strawberry</td>\n",
       "      <td>4</td>\n",
       "      <td>4.99</td>\n",
       "    </tr>\n",
       "    <tr>\n",
       "      <th>14</th>\n",
       "      <td>Richard</td>\n",
       "      <td>Prentis</td>\n",
       "      <td>Chocolate</td>\n",
       "      <td>2</td>\n",
       "      <td>3.99</td>\n",
       "    </tr>\n",
       "    <tr>\n",
       "      <th>15</th>\n",
       "      <td>Jenny</td>\n",
       "      <td>Anderson</td>\n",
       "      <td>Strawberry</td>\n",
       "      <td>1</td>\n",
       "      <td>4.99</td>\n",
       "    </tr>\n",
       "    <tr>\n",
       "      <th>16</th>\n",
       "      <td>Kevin</td>\n",
       "      <td>Salvatore</td>\n",
       "      <td>Chocolate</td>\n",
       "      <td>5</td>\n",
       "      <td>3.99</td>\n",
       "    </tr>\n",
       "    <tr>\n",
       "      <th>17</th>\n",
       "      <td>Barry</td>\n",
       "      <td>Brown</td>\n",
       "      <td>Chocolate</td>\n",
       "      <td>8</td>\n",
       "      <td>1.00</td>\n",
       "    </tr>\n",
       "    <tr>\n",
       "      <th>18</th>\n",
       "      <td>Jayna</td>\n",
       "      <td>Gilbert</td>\n",
       "      <td>Vanilla</td>\n",
       "      <td>6</td>\n",
       "      <td>2.99</td>\n",
       "    </tr>\n",
       "    <tr>\n",
       "      <th>19</th>\n",
       "      <td>Laura</td>\n",
       "      <td>Cooper</td>\n",
       "      <td>Chocolate</td>\n",
       "      <td>1</td>\n",
       "      <td>3.99</td>\n",
       "    </tr>\n",
       "    <tr>\n",
       "      <th>20</th>\n",
       "      <td>Lynn</td>\n",
       "      <td>Scott</td>\n",
       "      <td>Strawberry</td>\n",
       "      <td>4</td>\n",
       "      <td>2.50</td>\n",
       "    </tr>\n",
       "  </tbody>\n",
       "</table>\n",
       "</div>"
      ],
      "text/plain": [
       "            0           1           2    3     4\n",
       "0         Joe       Smith   Chocolate    4  3.99\n",
       "1        Eric    Williams     Vanilla   12  2.99\n",
       "2       Tyler    Purchase   Chocolate    6  3.99\n",
       "3       Riley   Weatherly     Vanilla    2  2.99\n",
       "4    Brittany      Morgan   Chocolate   50  1.99\n",
       "5       Jimmy        Wade  Strawberry    8  4.99\n",
       "6        Jeff      Garcia  Strawberry   12  4.99\n",
       "7         Amy       Stark   Chocolate   12  3.99\n",
       "8        Karl      Jenson  Strawberry    1  4.99\n",
       "9       Sally       Gains     Vanilla  100  2.99\n",
       "10        Ron       Blake   Chocolate   10  3.99\n",
       "11     Daniel  Montenegro  Strawberry    5  3.99\n",
       "12  Catherine   Alexander     Vanilla   20  1.49\n",
       "13   Sharleen        Reed  Strawberry    4  4.99\n",
       "14    Richard     Prentis   Chocolate    2  3.99\n",
       "15      Jenny    Anderson  Strawberry    1  4.99\n",
       "16      Kevin   Salvatore   Chocolate    5  3.99\n",
       "17      Barry       Brown   Chocolate    8  1.00\n",
       "18      Jayna     Gilbert     Vanilla    6  2.99\n",
       "19      Laura      Cooper   Chocolate    1  3.99\n",
       "20       Lynn       Scott  Strawberry    4  2.50"
      ]
     },
     "execution_count": 16,
     "metadata": {},
     "output_type": "execute_result"
    }
   ],
   "source": [
    "dataTwo"
   ]
  },
  {
   "cell_type": "code",
   "execution_count": 54,
   "id": "4a537baa",
   "metadata": {},
   "outputs": [
    {
     "data": {
      "text/html": [
       "<div>\n",
       "<style scoped>\n",
       "    .dataframe tbody tr th:only-of-type {\n",
       "        vertical-align: middle;\n",
       "    }\n",
       "\n",
       "    .dataframe tbody tr th {\n",
       "        vertical-align: top;\n",
       "    }\n",
       "\n",
       "    .dataframe thead th {\n",
       "        text-align: right;\n",
       "    }\n",
       "</style>\n",
       "<table border=\"1\" class=\"dataframe\">\n",
       "  <thead>\n",
       "    <tr style=\"text-align: right;\">\n",
       "      <th></th>\n",
       "      <th>0</th>\n",
       "      <th>1</th>\n",
       "      <th>2</th>\n",
       "      <th>3</th>\n",
       "      <th>4</th>\n",
       "    </tr>\n",
       "  </thead>\n",
       "  <tbody>\n",
       "    <tr>\n",
       "      <th>0</th>\n",
       "      <td>Joe</td>\n",
       "      <td>Smith</td>\n",
       "      <td>Chocolate</td>\n",
       "      <td>4</td>\n",
       "      <td>3.99</td>\n",
       "    </tr>\n",
       "    <tr>\n",
       "      <th>2</th>\n",
       "      <td>Tyler</td>\n",
       "      <td>Purchase</td>\n",
       "      <td>Chocolate</td>\n",
       "      <td>6</td>\n",
       "      <td>3.99</td>\n",
       "    </tr>\n",
       "    <tr>\n",
       "      <th>4</th>\n",
       "      <td>Brittany</td>\n",
       "      <td>Morgan</td>\n",
       "      <td>Chocolate</td>\n",
       "      <td>50</td>\n",
       "      <td>1.99</td>\n",
       "    </tr>\n",
       "    <tr>\n",
       "      <th>7</th>\n",
       "      <td>Amy</td>\n",
       "      <td>Stark</td>\n",
       "      <td>Chocolate</td>\n",
       "      <td>12</td>\n",
       "      <td>3.99</td>\n",
       "    </tr>\n",
       "    <tr>\n",
       "      <th>10</th>\n",
       "      <td>Ron</td>\n",
       "      <td>Blake</td>\n",
       "      <td>Chocolate</td>\n",
       "      <td>10</td>\n",
       "      <td>3.99</td>\n",
       "    </tr>\n",
       "    <tr>\n",
       "      <th>14</th>\n",
       "      <td>Richard</td>\n",
       "      <td>Prentis</td>\n",
       "      <td>Chocolate</td>\n",
       "      <td>2</td>\n",
       "      <td>3.99</td>\n",
       "    </tr>\n",
       "    <tr>\n",
       "      <th>16</th>\n",
       "      <td>Kevin</td>\n",
       "      <td>Salvatore</td>\n",
       "      <td>Chocolate</td>\n",
       "      <td>5</td>\n",
       "      <td>3.99</td>\n",
       "    </tr>\n",
       "    <tr>\n",
       "      <th>17</th>\n",
       "      <td>Barry</td>\n",
       "      <td>Brown</td>\n",
       "      <td>Chocolate</td>\n",
       "      <td>8</td>\n",
       "      <td>1.00</td>\n",
       "    </tr>\n",
       "    <tr>\n",
       "      <th>19</th>\n",
       "      <td>Laura</td>\n",
       "      <td>Cooper</td>\n",
       "      <td>Chocolate</td>\n",
       "      <td>1</td>\n",
       "      <td>3.99</td>\n",
       "    </tr>\n",
       "  </tbody>\n",
       "</table>\n",
       "</div>"
      ],
      "text/plain": [
       "           0          1          2   3     4\n",
       "0        Joe      Smith  Chocolate   4  3.99\n",
       "2      Tyler   Purchase  Chocolate   6  3.99\n",
       "4   Brittany     Morgan  Chocolate  50  1.99\n",
       "7        Amy      Stark  Chocolate  12  3.99\n",
       "10       Ron      Blake  Chocolate  10  3.99\n",
       "14   Richard    Prentis  Chocolate   2  3.99\n",
       "16     Kevin  Salvatore  Chocolate   5  3.99\n",
       "17     Barry      Brown  Chocolate   8  1.00\n",
       "19     Laura     Cooper  Chocolate   1  3.99"
      ]
     },
     "execution_count": 54,
     "metadata": {},
     "output_type": "execute_result"
    }
   ],
   "source": [
    "n = dataTwo[dataTwo[2] == 'Chocolate']\n",
    "n"
   ]
  },
  {
   "cell_type": "code",
   "execution_count": 26,
   "id": "d1dc7d24",
   "metadata": {},
   "outputs": [],
   "source": [
    "choc_sum = sum(n.iloc[:,4])"
   ]
  },
  {
   "cell_type": "code",
   "execution_count": 27,
   "id": "5ded16de",
   "metadata": {},
   "outputs": [],
   "source": [
    "t = dataTwo[dataTwo[2] == 'Vanilla']\n",
    "van_sum = sum(t.iloc[:,4])"
   ]
  },
  {
   "cell_type": "code",
   "execution_count": 32,
   "id": "89b612d3",
   "metadata": {},
   "outputs": [],
   "source": [
    "y = dataTwo[dataTwo[2] == 'Strawberry']\n",
    "straw_sum = sum(y.iloc[:,4])"
   ]
  },
  {
   "cell_type": "code",
   "execution_count": 49,
   "id": "da7e5c07",
   "metadata": {},
   "outputs": [],
   "source": [
    "diction = {'Chocolate' : [choc_sum], \n",
    "           'Vanilla' : van_sum,\n",
    "           'Strawberry' : straw_sum}"
   ]
  },
  {
   "cell_type": "code",
   "execution_count": 50,
   "id": "9135b71f",
   "metadata": {},
   "outputs": [],
   "source": [
    "newDataFrame = pd.DataFrame(data=diction)"
   ]
  },
  {
   "cell_type": "code",
   "execution_count": 51,
   "id": "5288cd27",
   "metadata": {},
   "outputs": [
    {
     "data": {
      "text/html": [
       "<div>\n",
       "<style scoped>\n",
       "    .dataframe tbody tr th:only-of-type {\n",
       "        vertical-align: middle;\n",
       "    }\n",
       "\n",
       "    .dataframe tbody tr th {\n",
       "        vertical-align: top;\n",
       "    }\n",
       "\n",
       "    .dataframe thead th {\n",
       "        text-align: right;\n",
       "    }\n",
       "</style>\n",
       "<table border=\"1\" class=\"dataframe\">\n",
       "  <thead>\n",
       "    <tr style=\"text-align: right;\">\n",
       "      <th></th>\n",
       "      <th>Chocolate</th>\n",
       "      <th>Vanilla</th>\n",
       "      <th>Strawberry</th>\n",
       "    </tr>\n",
       "  </thead>\n",
       "  <tbody>\n",
       "    <tr>\n",
       "      <th>0</th>\n",
       "      <td>30.92</td>\n",
       "      <td>13.45</td>\n",
       "      <td>31.44</td>\n",
       "    </tr>\n",
       "  </tbody>\n",
       "</table>\n",
       "</div>"
      ],
      "text/plain": [
       "   Chocolate  Vanilla  Strawberry\n",
       "0      30.92    13.45       31.44"
      ]
     },
     "execution_count": 51,
     "metadata": {},
     "output_type": "execute_result"
    }
   ],
   "source": [
    "newDataFrame.head()"
   ]
  },
  {
   "cell_type": "code",
   "execution_count": 53,
   "id": "97f49888",
   "metadata": {},
   "outputs": [
    {
     "data": {
      "text/plain": [
       "<AxesSubplot:>"
      ]
     },
     "execution_count": 53,
     "metadata": {},
     "output_type": "execute_result"
    },
    {
     "data": {
      "image/png": "[encoded data removed]",
      "text/plain": [
       "<Figure size 432x288 with 1 Axes>"
      ]
     },
     "metadata": {
      "needs_background": "light"
     },
     "output_type": "display_data"
    }
   ],
   "source": [
    "sns.barplot(data=newDataFrame)"
   ]
  },
  {
   "cell_type": "code",
   "execution_count": null,
   "id": "bbac4023",
   "metadata": {},
   "outputs": [],
   "source": []
  },
  {
   "cell_type": "code",
   "execution_count": null,
   "id": "6cd283fd",
   "metadata": {},
   "outputs": [],
   "source": []
  }
 ],
 "metadata": {
  "kernelspec": {
   "display_name": "Python 3",
   "language": "python",
   "name": "python3"
  },
  "language_info": {
   "codemirror_mode": {
    "name": "ipython",
    "version": 3
   },
   "file_extension": ".py",
   "mimetype": "text/x-python",
   "name": "python",
   "nbconvert_exporter": "python",
   "pygments_lexer": "ipython3",
   "version": "3.8.8"
  }
 },
 "nbformat": 4,
 "nbformat_minor": 5
}
