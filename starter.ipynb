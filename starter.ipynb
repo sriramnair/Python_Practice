{
 "cells": [
  {
   "cell_type": "code",
   "execution_count": 11,
   "id": "3ffccc2f",
   "metadata": {},
   "outputs": [
    {
     "name": "stdout",
     "output_type": "stream",
     "text": [
      "Sriram\n",
      "I love to code\n",
      "[2, 4, 6, 8, 10]\n",
      "C\n",
      "False\n"
     ]
    }
   ],
   "source": [
    "# PROBLEM 1\n",
    "# Create a variable that holds the value of your first name.\n",
    "name = 'Sriram'\n",
    "\n",
    "# PROBLEM 2\n",
    "# Create a variable that holds the value of your favorite number.\n",
    "num = 9\n",
    "\n",
    "# PROBLEM 3\n",
    "# Create a variable that holds a boolean value representing if your hair is brown.\n",
    "num = True\n",
    "\n",
    "# PROBLEM 4\n",
    "# Print your first name, by printing the variable created in problem 1.\n",
    "print(name)\n",
    "\n",
    "\n",
    "# PROBLEM 5\n",
    "#  Create a variable called `loves_code` and set it equal to true. \n",
    "#  Check to see if `loves_code` is equal to true or false. \n",
    "#  If it is true, print \"I love to code!\"\n",
    "#  If it is not, print \"Coding has it's challenges.\"\n",
    "loves_code = True\n",
    "\n",
    "if loves_code == True:\n",
    "    print('I love to code')\n",
    "else:\n",
    "    print(\"Coding has it's challenges\")\n",
    "    # PROBLEM 6\n",
    "# Create an array called `colors` and set it equal to a list of at least five colors.\n",
    "color = ['blue', 'green', 'yellow', 'red', 'grey']\n",
    "\n",
    "# Problem 7\n",
    "# Using bracket syntax, print out the last item in your colors array.\n",
    "\n",
    "color[4]\n",
    "\n",
    "\n",
    "# For problems 8-9, use the following line of code:\n",
    "numbers = [1,2,3,4,5,6,7,8,9,10]\n",
    "\n",
    "# Problem 8\n",
    "# Use a for-in loop to iterate over the `numbers` array and print each number\n",
    "\n",
    "#for i in numbers:\n",
    "    #print(i)\n",
    "    \n",
    "# Problem 9\n",
    "# Create an empty array called `even_numbers`.\n",
    "# Use a for-in loop to iterate over the `numbers` array, and if a number is even, add  it to the `even_numbers` array.\n",
    "even_numbers = []\n",
    "for i in numbers:\n",
    "    if i % 2 == 0:\n",
    "        even_numbers.append(i)\n",
    "print(even_numbers)\n",
    "        \n",
    "# Problem 10\n",
    "# Do not edit the code below.\n",
    "score = 74\n",
    "# Do not edit the code above.\n",
    "# Determine if the letter grade of the given variable 'score'. If the variable is a 90 or above, console-log an 'A', between 80 and 89\n",
    "#console-log a 'B', between 70 and 79, 'C', between 60 and 69, 'D', and anything below 60 should console-log an 'F'.\n",
    "\n",
    "if score >= 90:\n",
    "    print('A')\n",
    "elif score >= 80 and score <= 89:\n",
    "    print('B')\n",
    "elif score >= 70 and score <= 79:\n",
    "    print('C')\n",
    "elif score >= 60 and score <= 69:\n",
    "    print('D')\n",
    "elif score >= 50 and score <= 59:\n",
    "    print('F')\n",
    "    \n",
    "# Problem 11\n",
    "# Create a variable called 'changeMyMind' and set it equal to true. \n",
    "# Check to see if changeMyMind is set to true or false, if it is true, change the status to false, if it is false, change the status to true\n",
    "\n",
    "changeMyMind = True\n",
    "\n",
    "if changeMyMind == True:\n",
    "    changeMyMind = False\n",
    "elif changeMyMind == False:\n",
    "    changeMyMind = True\n",
    "\n",
    "print(changeMyMind)\n"
   ]
  },
  {
   "cell_type": "code",
   "execution_count": 13,
   "id": "93138d2e",
   "metadata": {},
   "outputs": [
    {
     "name": "stdout",
     "output_type": "stream",
     "text": [
      "['Joe', 'Sally', 'Camilo', 'Perry', 'Susan', 'Sriram']\n"
     ]
    }
   ],
   "source": [
    "# ADVANCED\n",
    "\n",
    "# For problems 12-15, use the following line of code:\n",
    "friends = ['Joe', 'Sally', 'Camilo', 'Perry', 'Susan']\n",
    "\n",
    "# Problem 12\n",
    "# Research to find the Python method that allows you to add an element to the end of the array (similar to push() in JavaScript), then add a\n",
    "# name to the end of the `friends` array.\n",
    "\n",
    "friends.append('Sriram')\n",
    "print(friends)"
   ]
  },
  {
   "cell_type": "code",
   "execution_count": 18,
   "id": "2b41293e",
   "metadata": {},
   "outputs": [
    {
     "data": {
      "text/plain": [
       "6"
      ]
     },
     "execution_count": 18,
     "metadata": {},
     "output_type": "execute_result"
    }
   ],
   "source": [
    "# Problem 13\n",
    "# Print out the total amount of elements in the `friends` array. The Python method you are looking for is similar to the JavaScript property\n",
    "len(friends)\n",
    "\n",
    "# Problem 14\n",
    "# Add a name into the third position in the array (index 2). Make sure you are not overwriting the value that is already there.\n",
    "\n"
   ]
  },
  {
   "cell_type": "code",
   "execution_count": 20,
   "id": "60f25c23",
   "metadata": {},
   "outputs": [],
   "source": [
    "friends[2] = 'Camilo'"
   ]
  },
  {
   "cell_type": "code",
   "execution_count": 23,
   "id": "7ca651af",
   "metadata": {},
   "outputs": [],
   "source": [
    "friends.insert(2, 'Brian')"
   ]
  },
  {
   "cell_type": "code",
   "execution_count": 24,
   "id": "1db80dd2",
   "metadata": {},
   "outputs": [
    {
     "data": {
      "text/plain": [
       "['Joe', 'Sally', 'Brian', 'Camilo', 'Perry', 'Susan', 'Sriram']"
      ]
     },
     "execution_count": 24,
     "metadata": {},
     "output_type": "execute_result"
    }
   ],
   "source": [
    "friends"
   ]
  },
  {
   "cell_type": "code",
   "execution_count": 27,
   "id": "b114e954",
   "metadata": {},
   "outputs": [
    {
     "data": {
      "text/plain": [
       "'Susan'"
      ]
     },
     "execution_count": 27,
     "metadata": {},
     "output_type": "execute_result"
    }
   ],
   "source": [
    "# Problem 15\n",
    "# Remove the last item in the array (try to think about how you can do this dynamically, meaning, if the array contents were to change, your code would still work).\n",
    "friends.pop()"
   ]
  },
  {
   "cell_type": "code",
   "execution_count": 28,
   "id": "fc8dfe3d",
   "metadata": {},
   "outputs": [
    {
     "data": {
      "text/plain": [
       "['Joe', 'Sally', 'Brian', 'Camilo', 'Perry']"
      ]
     },
     "execution_count": 28,
     "metadata": {},
     "output_type": "execute_result"
    }
   ],
   "source": [
    "friends"
   ]
  },
  {
   "cell_type": "code",
   "execution_count": null,
   "id": "f78e1abc",
   "metadata": {},
   "outputs": [],
   "source": []
  }
 ],
 "metadata": {
  "kernelspec": {
   "display_name": "Python 3",
   "language": "python",
   "name": "python3"
  },
  "language_info": {
   "codemirror_mode": {
    "name": "ipython",
    "version": 3
   },
   "file_extension": ".py",
   "mimetype": "text/x-python",
   "name": "python",
   "nbconvert_exporter": "python",
   "pygments_lexer": "ipython3",
   "version": "3.8.8"
  }
 },
 "nbformat": 4,
 "nbformat_minor": 5
}
